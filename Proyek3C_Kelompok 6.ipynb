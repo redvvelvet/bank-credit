{
  "cells":[
    {
      "cell_type":"markdown",
      "source":[
        "# Proyek 3C - Kasih kredit ngga ya? 2.0\n",
        "**Anggota Kelompok:**\n",
        "1. Christoper Vincent (10101190479)\n",
        "2. Christyane Zabdi (10101190118)\n",
        "3. Jason Caleb (10101201240)\n",
        "4. Vincent Chandra (10103190181)\n",
        "5. Reszisca Valentiana (10101190702)\n",
        "\n",
        "## Latar Belakang\n",
        "Untuk membantu suatu bank dalam mendesain produk Kredit Pemilikan Mobil untuk warga kota, kita perlu mempelajari profil income dan kepemilikan mocil warga di kota tersebut.\n",
        "Produk cicilan kredit ini tidak dapat ditawarkan kepada sembarang orang. Hal ini dikarenakan bahwa terdapat beberapa orang yang tidak memiliki jaminan penghasilan yang stabil yang sangat memiliki resiko gagal bayar yang sangat besar. Karena itu, proyek ini adalah untuk mempelajari profil penghasilan warga kota.\n",
        "\n",
        "\n",
        "## Tujuan\n",
        "Mendemostrasikan pengujian hipotesis dalam proyek ini, mempelajari profil penghasilan warga kota untuk membantu bank Kredit Pemilikan Mobil."
      ],
      "attachments":{
        
      },
      "metadata":{
        
      }
    },
    {
      "cell_type":"markdown",
      "source":[
        "**Membaca data**"
      ],
      "attachments":{
        
      },
      "metadata":{
        
      }
    },
    {
      "cell_type":"code",
      "source":[
        "import pandas as pd\n",
        "\n",
        "df = pd.read_csv('income.csv')\n",
        "df"
      ],
      "attachments":{
        
      },
      "execution_count":1,
      "outputs":[
        {
          "data":{
            "text\/html":[
              "<div>\n",
              "<style scoped>\n",
              "    .dataframe tbody tr th:only-of-type {\n",
              "        vertical-align: middle;\n",
              "    }\n",
              "\n",
              "    .dataframe tbody tr th {\n",
              "        vertical-align: top;\n",
              "    }\n",
              "\n",
              "    .dataframe thead th {\n",
              "        text-align: right;\n",
              "    }\n",
              "<\/style>\n",
              "<table border=\"1\" class=\"dataframe\">\n",
              "  <thead>\n",
              "    <tr style=\"text-align: right;\">\n",
              "      <th><\/th>\n",
              "      <th>Age<\/th>\n",
              "      <th>Marital status<\/th>\n",
              "      <th>Address<\/th>\n",
              "      <th>Income<\/th>\n",
              "      <th>Income Category<\/th>\n",
              "      <th>Car price<\/th>\n",
              "      <th>Car price category<\/th>\n",
              "      <th>Education<\/th>\n",
              "      <th>Emply<\/th>\n",
              "      <th>Retired<\/th>\n",
              "      <th>...<\/th>\n",
              "      <th>Caller ID<\/th>\n",
              "      <th>Call waiting<\/th>\n",
              "      <th>Own TV<\/th>\n",
              "      <th>Own  VCR<\/th>\n",
              "      <th>Own CD player<\/th>\n",
              "      <th>Own PDA<\/th>\n",
              "      <th>Own computer<\/th>\n",
              "      <th>Own Fax<\/th>\n",
              "      <th>Read newspapers<\/th>\n",
              "      <th>Response<\/th>\n",
              "    <\/tr>\n",
              "  <\/thead>\n",
              "  <tbody>\n",
              "    <tr>\n",
              "      <th>0<\/th>\n",
              "      <td>55<\/td>\n",
              "      <td>1<\/td>\n",
              "      <td>12<\/td>\n",
              "      <td>72.0<\/td>\n",
              "      <td>3.0<\/td>\n",
              "      <td>37.0<\/td>\n",
              "      <td>3.0<\/td>\n",
              "      <td>1<\/td>\n",
              "      <td>23<\/td>\n",
              "      <td>0<\/td>\n",
              "      <td>...<\/td>\n",
              "      <td>1<\/td>\n",
              "      <td>0<\/td>\n",
              "      <td>1<\/td>\n",
              "      <td>1<\/td>\n",
              "      <td>1<\/td>\n",
              "      <td>0<\/td>\n",
              "      <td>0<\/td>\n",
              "      <td>0<\/td>\n",
              "      <td>0<\/td>\n",
              "      <td>1<\/td>\n",
              "    <\/tr>\n",
              "    <tr>\n",
              "      <th>1<\/th>\n",
              "      <td>56<\/td>\n",
              "      <td>0<\/td>\n",
              "      <td>29<\/td>\n",
              "      <td>153.0<\/td>\n",
              "      <td>4.0<\/td>\n",
              "      <td>76.0<\/td>\n",
              "      <td>3.0<\/td>\n",
              "      <td>1<\/td>\n",
              "      <td>35<\/td>\n",
              "      <td>0<\/td>\n",
              "      <td>...<\/td>\n",
              "      <td>1<\/td>\n",
              "      <td>1<\/td>\n",
              "      <td>1<\/td>\n",
              "      <td>1<\/td>\n",
              "      <td>1<\/td>\n",
              "      <td>0<\/td>\n",
              "      <td>0<\/td>\n",
              "      <td>0<\/td>\n",
              "      <td>0<\/td>\n",
              "      <td>0<\/td>\n",
              "    <\/tr>\n",
              "    <tr>\n",
              "      <th>2<\/th>\n",
              "      <td>28<\/td>\n",
              "      <td>1<\/td>\n",
              "      <td>9<\/td>\n",
              "      <td>28.0<\/td>\n",
              "      <td>2.0<\/td>\n",
              "      <td>13.9<\/td>\n",
              "      <td>1.0<\/td>\n",
              "      <td>3<\/td>\n",
              "      <td>4<\/td>\n",
              "      <td>0<\/td>\n",
              "      <td>...<\/td>\n",
              "      <td>0<\/td>\n",
              "      <td>0<\/td>\n",
              "      <td>1<\/td>\n",
              "      <td>1<\/td>\n",
              "      <td>1<\/td>\n",
              "      <td>0<\/td>\n",
              "      <td>0<\/td>\n",
              "      <td>0<\/td>\n",
              "      <td>1<\/td>\n",
              "      <td>1<\/td>\n",
              "    <\/tr>\n",
              "    <tr>\n",
              "      <th>3<\/th>\n",
              "      <td>24<\/td>\n",
              "      <td>1<\/td>\n",
              "      <td>4<\/td>\n",
              "      <td>26.0<\/td>\n",
              "      <td>2.0<\/td>\n",
              "      <td>13.0<\/td>\n",
              "      <td>1.0<\/td>\n",
              "      <td>4<\/td>\n",
              "      <td>0<\/td>\n",
              "      <td>0<\/td>\n",
              "      <td>...<\/td>\n",
              "      <td>0<\/td>\n",
              "      <td>1<\/td>\n",
              "      <td>1<\/td>\n",
              "      <td>1<\/td>\n",
              "      <td>1<\/td>\n",
              "      <td>0<\/td>\n",
              "      <td>1<\/td>\n",
              "      <td>0<\/td>\n",
              "      <td>1<\/td>\n",
              "      <td>1<\/td>\n",
              "    <\/tr>\n",
              "    <tr>\n",
              "      <th>4<\/th>\n",
              "      <td>25<\/td>\n",
              "      <td>1<\/td>\n",
              "      <td>2<\/td>\n",
              "      <td>23.0<\/td>\n",
              "      <td>1.0<\/td>\n",
              "      <td>11.3<\/td>\n",
              "      <td>1.0<\/td>\n",
              "      <td>2<\/td>\n",
              "      <td>5<\/td>\n",
              "      <td>0<\/td>\n",
              "      <td>...<\/td>\n",
              "      <td>1<\/td>\n",
              "      <td>0<\/td>\n",
              "      <td>1<\/td>\n",
              "      <td>1<\/td>\n",
              "      <td>0<\/td>\n",
              "      <td>0<\/td>\n",
              "      <td>1<\/td>\n",
              "      <td>0<\/td>\n",
              "      <td>1<\/td>\n",
              "      <td>1<\/td>\n",
              "    <\/tr>\n",
              "    <tr>\n",
              "      <th>...<\/th>\n",
              "      <td>...<\/td>\n",
              "      <td>...<\/td>\n",
              "      <td>...<\/td>\n",
              "      <td>...<\/td>\n",
              "      <td>...<\/td>\n",
              "      <td>...<\/td>\n",
              "      <td>...<\/td>\n",
              "      <td>...<\/td>\n",
              "      <td>...<\/td>\n",
              "      <td>...<\/td>\n",
              "      <td>...<\/td>\n",
              "      <td>...<\/td>\n",
              "      <td>...<\/td>\n",
              "      <td>...<\/td>\n",
              "      <td>...<\/td>\n",
              "      <td>...<\/td>\n",
              "      <td>...<\/td>\n",
              "      <td>...<\/td>\n",
              "      <td>...<\/td>\n",
              "      <td>...<\/td>\n",
              "      <td>...<\/td>\n",
              "    <\/tr>\n",
              "    <tr>\n",
              "      <th>6395<\/th>\n",
              "      <td>56<\/td>\n",
              "      <td>0<\/td>\n",
              "      <td>22<\/td>\n",
              "      <td>207.0<\/td>\n",
              "      <td>4.0<\/td>\n",
              "      <td>85.3<\/td>\n",
              "      <td>3.0<\/td>\n",
              "      <td>1<\/td>\n",
              "      <td>39<\/td>\n",
              "      <td>0<\/td>\n",
              "      <td>...<\/td>\n",
              "      <td>0<\/td>\n",
              "      <td>0<\/td>\n",
              "      <td>1<\/td>\n",
              "      <td>1<\/td>\n",
              "      <td>1<\/td>\n",
              "      <td>0<\/td>\n",
              "      <td>1<\/td>\n",
              "      <td>0<\/td>\n",
              "      <td>0<\/td>\n",
              "      <td>1<\/td>\n",
              "    <\/tr>\n",
              "    <tr>\n",
              "      <th>6396<\/th>\n",
              "      <td>40<\/td>\n",
              "      <td>0<\/td>\n",
              "      <td>21<\/td>\n",
              "      <td>60.0<\/td>\n",
              "      <td>3.0<\/td>\n",
              "      <td>30.8<\/td>\n",
              "      <td>3.0<\/td>\n",
              "      <td>4<\/td>\n",
              "      <td>6<\/td>\n",
              "      <td>0<\/td>\n",
              "      <td>...<\/td>\n",
              "      <td>0<\/td>\n",
              "      <td>0<\/td>\n",
              "      <td>1<\/td>\n",
              "      <td>1<\/td>\n",
              "      <td>1<\/td>\n",
              "      <td>0<\/td>\n",
              "      <td>0<\/td>\n",
              "      <td>0<\/td>\n",
              "      <td>1<\/td>\n",
              "      <td>1<\/td>\n",
              "    <\/tr>\n",
              "    <tr>\n",
              "      <th>6397<\/th>\n",
              "      <td>34<\/td>\n",
              "      <td>0<\/td>\n",
              "      <td>3<\/td>\n",
              "      <td>59.0<\/td>\n",
              "      <td>3.0<\/td>\n",
              "      <td>29.1<\/td>\n",
              "      <td>2.0<\/td>\n",
              "      <td>4<\/td>\n",
              "      <td>9<\/td>\n",
              "      <td>0<\/td>\n",
              "      <td>...<\/td>\n",
              "      <td>1<\/td>\n",
              "      <td>1<\/td>\n",
              "      <td>1<\/td>\n",
              "      <td>1<\/td>\n",
              "      <td>1<\/td>\n",
              "      <td>0<\/td>\n",
              "      <td>0<\/td>\n",
              "      <td>1<\/td>\n",
              "      <td>1<\/td>\n",
              "      <td>1<\/td>\n",
              "    <\/tr>\n",
              "    <tr>\n",
              "      <th>6398<\/th>\n",
              "      <td>26<\/td>\n",
              "      <td>1<\/td>\n",
              "      <td>3<\/td>\n",
              "      <td>44.0<\/td>\n",
              "      <td>2.0<\/td>\n",
              "      <td>21.8<\/td>\n",
              "      <td>2.0<\/td>\n",
              "      <td>4<\/td>\n",
              "      <td>2<\/td>\n",
              "      <td>0<\/td>\n",
              "      <td>...<\/td>\n",
              "      <td>0<\/td>\n",
              "      <td>0<\/td>\n",
              "      <td>1<\/td>\n",
              "      <td>1<\/td>\n",
              "      <td>1<\/td>\n",
              "      <td>0<\/td>\n",
              "      <td>1<\/td>\n",
              "      <td>0<\/td>\n",
              "      <td>1<\/td>\n",
              "      <td>1<\/td>\n",
              "    <\/tr>\n",
              "    <tr>\n",
              "      <th>6399<\/th>\n",
              "      <td>38<\/td>\n",
              "      <td>0<\/td>\n",
              "      <td>4<\/td>\n",
              "      <td>62.0<\/td>\n",
              "      <td>3.0<\/td>\n",
              "      <td>30.6<\/td>\n",
              "      <td>3.0<\/td>\n",
              "      <td>2<\/td>\n",
              "      <td>13<\/td>\n",
              "      <td>0<\/td>\n",
              "      <td>...<\/td>\n",
              "      <td>1<\/td>\n",
              "      <td>1<\/td>\n",
              "      <td>1<\/td>\n",
              "      <td>1<\/td>\n",
              "      <td>1<\/td>\n",
              "      <td>0<\/td>\n",
              "      <td>0<\/td>\n",
              "      <td>0<\/td>\n",
              "      <td>1<\/td>\n",
              "      <td>1<\/td>\n",
              "    <\/tr>\n",
              "  <\/tbody>\n",
              "<\/table>\n",
              "<p>6400 rows × 28 columns<\/p>\n",
              "<\/div>"
            ]
          },
          "metadata":{
            
          },
          "output_type":"display_data"
        }
      ],
      "metadata":{
        
      }
    },
    {
      "cell_type":"markdown",
      "source":[
        "**Memfilter kolom, memeriksa baris null dan tipe data**<br>\n",
        "Berdasarkan output di bawah, tidak ditemukan baris yang null dan tipe data sudah sesuai dengan yang seharusnya."
      ],
      "attachments":{
        
      },
      "metadata":{
        
      }
    },
    {
      "cell_type":"code",
      "source":[
        "data = df[[\"Income\", \"Age\"]]\n",
        "data.info()"
      ],
      "attachments":{
        
      },
      "execution_count":2,
      "outputs":[
        {
          "name":"stdout",
          "text":[
            "<class 'pandas.core.frame.DataFrame'>\n",
            "RangeIndex: 6400 entries, 0 to 6399\n",
            "Data columns (total 2 columns):\n",
            " #   Column  Non-Null Count  Dtype  \n",
            "---  ------  --------------  -----  \n",
            " 0   Income  6400 non-null   float64\n",
            " 1   Age     6400 non-null   int64  \n",
            "dtypes: float64(1), int64(1)\n",
            "memory usage: 100.1 KB\n"
          ],
          "output_type":"stream"
        }
      ],
      "metadata":{
        
      }
    },
    {
      "cell_type":"markdown",
      "source":[
        "Kolom yang diperlukan:\n",
        "- Income: Penghasilan (1K USD\/tahun)\n",
        "- Age: Usia (tahun)"
      ],
      "attachments":{
        
      },
      "metadata":{
        
      }
    },
    {
      "cell_type":"code",
      "source":[
        "data"
      ],
      "attachments":{
        
      },
      "execution_count":3,
      "outputs":[
        {
          "data":{
            "text\/html":[
              "<div>\n",
              "<style scoped>\n",
              "    .dataframe tbody tr th:only-of-type {\n",
              "        vertical-align: middle;\n",
              "    }\n",
              "\n",
              "    .dataframe tbody tr th {\n",
              "        vertical-align: top;\n",
              "    }\n",
              "\n",
              "    .dataframe thead th {\n",
              "        text-align: right;\n",
              "    }\n",
              "<\/style>\n",
              "<table border=\"1\" class=\"dataframe\">\n",
              "  <thead>\n",
              "    <tr style=\"text-align: right;\">\n",
              "      <th><\/th>\n",
              "      <th>Income<\/th>\n",
              "      <th>Age<\/th>\n",
              "    <\/tr>\n",
              "  <\/thead>\n",
              "  <tbody>\n",
              "    <tr>\n",
              "      <th>0<\/th>\n",
              "      <td>72.0<\/td>\n",
              "      <td>55<\/td>\n",
              "    <\/tr>\n",
              "    <tr>\n",
              "      <th>1<\/th>\n",
              "      <td>153.0<\/td>\n",
              "      <td>56<\/td>\n",
              "    <\/tr>\n",
              "    <tr>\n",
              "      <th>2<\/th>\n",
              "      <td>28.0<\/td>\n",
              "      <td>28<\/td>\n",
              "    <\/tr>\n",
              "    <tr>\n",
              "      <th>3<\/th>\n",
              "      <td>26.0<\/td>\n",
              "      <td>24<\/td>\n",
              "    <\/tr>\n",
              "    <tr>\n",
              "      <th>4<\/th>\n",
              "      <td>23.0<\/td>\n",
              "      <td>25<\/td>\n",
              "    <\/tr>\n",
              "    <tr>\n",
              "      <th>...<\/th>\n",
              "      <td>...<\/td>\n",
              "      <td>...<\/td>\n",
              "    <\/tr>\n",
              "    <tr>\n",
              "      <th>6395<\/th>\n",
              "      <td>207.0<\/td>\n",
              "      <td>56<\/td>\n",
              "    <\/tr>\n",
              "    <tr>\n",
              "      <th>6396<\/th>\n",
              "      <td>60.0<\/td>\n",
              "      <td>40<\/td>\n",
              "    <\/tr>\n",
              "    <tr>\n",
              "      <th>6397<\/th>\n",
              "      <td>59.0<\/td>\n",
              "      <td>34<\/td>\n",
              "    <\/tr>\n",
              "    <tr>\n",
              "      <th>6398<\/th>\n",
              "      <td>44.0<\/td>\n",
              "      <td>26<\/td>\n",
              "    <\/tr>\n",
              "    <tr>\n",
              "      <th>6399<\/th>\n",
              "      <td>62.0<\/td>\n",
              "      <td>38<\/td>\n",
              "    <\/tr>\n",
              "  <\/tbody>\n",
              "<\/table>\n",
              "<p>6400 rows × 2 columns<\/p>\n",
              "<\/div>"
            ]
          },
          "metadata":{
            
          },
          "output_type":"display_data"
        }
      ],
      "metadata":{
        
      }
    },
    {
      "cell_type":"markdown",
      "source":[
        "***Data Pre-processing***\n",
        "\n",
        "Memeriksa apakah ada yang masih berada di bawah umur (< 18 tahun). Salah satu persyaratan untuk membeli kendaraan adalah berusia minimum 18 tahun. Berdasarkan output di bawah, tidak ditemukan orang yang berusia di bawah 18 tahun sehingga tidak perlu drop baris."
      ],
      "attachments":{
        
      },
      "metadata":{
        
      }
    },
    {
      "cell_type":"code",
      "source":[
        "under_18 = 0\n",
        "for i in range(len(data)):\n",
        "    if data['Age'][i] < 18:\n",
        "        under_18 += 1\n",
        "print(f\"Banyaknya orang yang berumur di bawah 18 tahun: {under_18}\")"
      ],
      "attachments":{
        
      },
      "execution_count":4,
      "outputs":[
        {
          "name":"stdout",
          "text":[
            "Banyaknya orang yang berumur di bawah 18 tahun: 0\n"
          ],
          "output_type":"stream"
        }
      ],
      "metadata":{
        
      }
    },
    {
      "cell_type":"markdown",
      "source":[
        "# Tugas Pemrograman"
      ],
      "attachments":{
        
      },
      "metadata":{
        
      }
    },
    {
      "cell_type":"markdown",
      "source":[
        "**Membagi kolom Age menjadi tiga kelompok**\n",
        "- Kelompok 1: usia < 35 tahun\n",
        "- Kelompok 2: 35 tahun ≤ usia ≤ 50 tahun\n",
        "- Kelompok 3: usia > 50 tahun"
      ],
      "attachments":{
        
      },
      "metadata":{
        
      }
    },
    {
      "cell_type":"code",
      "source":[
        "import warnings\n",
        "warnings.filterwarnings('ignore')\n",
        "\n",
        "data['Age Category'] = None\n",
        "for i in range(len(data)):\n",
        "    if data['Age'][i] < 35:\n",
        "        data['Age Category'][i] = 1\n",
        "    elif data['Age'][i] <= 50:\n",
        "        data['Age Category'][i] = 2\n",
        "    else: # data['Age'][i] > 50\n",
        "        data['Age Category'][i] = 3\n",
        "data"
      ],
      "attachments":{
        
      },
      "execution_count":5,
      "outputs":[
        {
          "data":{
            "text\/html":[
              "<div>\n",
              "<style scoped>\n",
              "    .dataframe tbody tr th:only-of-type {\n",
              "        vertical-align: middle;\n",
              "    }\n",
              "\n",
              "    .dataframe tbody tr th {\n",
              "        vertical-align: top;\n",
              "    }\n",
              "\n",
              "    .dataframe thead th {\n",
              "        text-align: right;\n",
              "    }\n",
              "<\/style>\n",
              "<table border=\"1\" class=\"dataframe\">\n",
              "  <thead>\n",
              "    <tr style=\"text-align: right;\">\n",
              "      <th><\/th>\n",
              "      <th>Income<\/th>\n",
              "      <th>Age<\/th>\n",
              "      <th>Age Category<\/th>\n",
              "    <\/tr>\n",
              "  <\/thead>\n",
              "  <tbody>\n",
              "    <tr>\n",
              "      <th>0<\/th>\n",
              "      <td>72.0<\/td>\n",
              "      <td>55<\/td>\n",
              "      <td>3<\/td>\n",
              "    <\/tr>\n",
              "    <tr>\n",
              "      <th>1<\/th>\n",
              "      <td>153.0<\/td>\n",
              "      <td>56<\/td>\n",
              "      <td>3<\/td>\n",
              "    <\/tr>\n",
              "    <tr>\n",
              "      <th>2<\/th>\n",
              "      <td>28.0<\/td>\n",
              "      <td>28<\/td>\n",
              "      <td>1<\/td>\n",
              "    <\/tr>\n",
              "    <tr>\n",
              "      <th>3<\/th>\n",
              "      <td>26.0<\/td>\n",
              "      <td>24<\/td>\n",
              "      <td>1<\/td>\n",
              "    <\/tr>\n",
              "    <tr>\n",
              "      <th>4<\/th>\n",
              "      <td>23.0<\/td>\n",
              "      <td>25<\/td>\n",
              "      <td>1<\/td>\n",
              "    <\/tr>\n",
              "    <tr>\n",
              "      <th>...<\/th>\n",
              "      <td>...<\/td>\n",
              "      <td>...<\/td>\n",
              "      <td>...<\/td>\n",
              "    <\/tr>\n",
              "    <tr>\n",
              "      <th>6395<\/th>\n",
              "      <td>207.0<\/td>\n",
              "      <td>56<\/td>\n",
              "      <td>3<\/td>\n",
              "    <\/tr>\n",
              "    <tr>\n",
              "      <th>6396<\/th>\n",
              "      <td>60.0<\/td>\n",
              "      <td>40<\/td>\n",
              "      <td>2<\/td>\n",
              "    <\/tr>\n",
              "    <tr>\n",
              "      <th>6397<\/th>\n",
              "      <td>59.0<\/td>\n",
              "      <td>34<\/td>\n",
              "      <td>1<\/td>\n",
              "    <\/tr>\n",
              "    <tr>\n",
              "      <th>6398<\/th>\n",
              "      <td>44.0<\/td>\n",
              "      <td>26<\/td>\n",
              "      <td>1<\/td>\n",
              "    <\/tr>\n",
              "    <tr>\n",
              "      <th>6399<\/th>\n",
              "      <td>62.0<\/td>\n",
              "      <td>38<\/td>\n",
              "      <td>2<\/td>\n",
              "    <\/tr>\n",
              "  <\/tbody>\n",
              "<\/table>\n",
              "<p>6400 rows × 3 columns<\/p>\n",
              "<\/div>"
            ]
          },
          "metadata":{
            
          },
          "output_type":"display_data"
        }
      ],
      "metadata":{
        
      }
    },
    {
      "cell_type":"markdown",
      "source":[
        "## Uji Hipotesis\n",
        "\n",
        "### Menentukan Hipotesis\n",
        "* Hipotesis Null ($H_0$): Rata-rata Income ≥ 35K USD <br>\n",
        "* Hipotesis Alternatif ($H_1$): Rata-rata Income < 35K USD"
      ],
      "attachments":{
        
      },
      "metadata":{
        
      }
    },
    {
      "cell_type":"markdown",
      "source":[
        "### Menentukan Significance (α)"
      ],
      "attachments":{
        
      },
      "metadata":{
        
      }
    },
    {
      "cell_type":"code",
      "source":[
        "import scipy.stats as z\n",
        "\n",
        "# critical value\n",
        "significance = 0.05\n",
        "critical_val = -(z.norm.ppf(q = 1 - significance))\n",
        "print('Alpha (α) =', format(critical_val, '.3f'))"
      ],
      "attachments":{
        
      },
      "execution_count":6,
      "outputs":[
        {
          "name":"stdout",
          "text":[
            "Alpha (α) = -1.645\n"
          ],
          "output_type":"stream"
        }
      ],
      "metadata":{
        
      }
    },
    {
      "cell_type":"code",
      "source":[
        "# critical value dalam distribusi z\n",
        "import matplotlib.pyplot as plt\n",
        "from numpy import arange\n",
        "from scipy.stats import norm\n",
        "\n",
        "x_axis = arange(-3, 3, 0.00001)\n",
        "y_axis = norm.pdf(x_axis, 0, 1)\n",
        "\n",
        "plt.style.use('seaborn')\n",
        "plt.vlines([0], 0, 0.4, linestyles='dashed', colors='black', label=\"\\u0396 Populasi = 0\")\n",
        "plt.vlines([-1.645], 0, 0.1, colors='purple', label=\"\\u0396 Critical Value = -1.645\")\n",
        "plt.annotate('-1.645', xy=(-2.2,0.14), fontsize=15)\n",
        "\n",
        "plt.title(\"Distribusi Income\", fontsize=16)\n",
        "plt.plot(x_axis, y_axis)\n",
        "plt.legend()\n",
        "plt.show()"
      ],
      "attachments":{
        
      },
      "execution_count":7,
      "outputs":[
        {
          "data":{
            "image\/png":"[encoded data removed]"
          },
          "metadata":{
            "image\/png":{
              "width":0,
              "height":0
            }
          },
          "output_type":"display_data"
        }
      ],
      "metadata":{
        
      }
    },
    {
      "cell_type":"markdown",
      "source":[
        "### Menentukan P-Value\n",
        "**Mencari Rata-rata dan Standar Deviasi**"
      ],
      "attachments":{
        
      },
      "metadata":{
        
      }
    },
    {
      "cell_type":"code",
      "source":[
        "# Rata-rata dan Standar Deviasi masing-masing kategori usia\n",
        "data_group_1 = data[data[\"Age Category\"] == 1]\n",
        "dg1_mean = data_group_1[\"Income\"].mean()\n",
        "dg1_std = data_group_1[\"Income\"].std()\n",
        "\n",
        "data_group_2 = data[data[\"Age Category\"] == 2]\n",
        "dg2_mean = data_group_2[\"Income\"].mean()\n",
        "dg2_std = data_group_2[\"Income\"].std()\n",
        "\n",
        "data_group_3 = data[data[\"Age Category\"] == 3]\n",
        "dg3_mean = data_group_3[\"Income\"].mean()\n",
        "dg3_std = data_group_3[\"Income\"].std()"
      ],
      "attachments":{
        
      },
      "execution_count":8,
      "outputs":[
        
      ],
      "metadata":{
        
      }
    },
    {
      "cell_type":"code",
      "source":[
        "# rata-rata dan standar deviasi dari kelompok usia 1\n",
        "print(\"Rata-rata sampel kelompok usia 1:\", format(dg1_mean, '.4f'))\n",
        "print(\"Standar deviasi sampel kelompok usia 1:\",format(dg1_std, '.4f'))"
      ],
      "attachments":{
        
      },
      "execution_count":9,
      "outputs":[
        {
          "name":"stdout",
          "text":[
            "Rata-rata sampel kelompok usia 1: 35.4926\n",
            "Standar deviasi sampel kelompok usia 1: 22.1209\n"
          ],
          "output_type":"stream"
        }
      ],
      "metadata":{
        
      }
    },
    {
      "cell_type":"code",
      "source":[
        "# rata-rata dan standar deviasi dari kelompok usia 2\n",
        "print(\"Rata-rata sampel kelompok usia 2:\", format(dg2_mean, '.4f'))\n",
        "print(\"Standar deviasi sampel kelompok usia 2:\", format(dg2_std, '.4f'))"
      ],
      "attachments":{
        
      },
      "execution_count":10,
      "outputs":[
        {
          "name":"stdout",
          "text":[
            "Rata-rata sampel kelompok usia 2: 71.1014\n",
            "Standar deviasi sampel kelompok usia 2: 54.4436\n"
          ],
          "output_type":"stream"
        }
      ],
      "metadata":{
        
      }
    },
    {
      "cell_type":"code",
      "source":[
        "# rata-rata dan standar deviasi dari kelompok usia 3\n",
        "print(\"Rata-rata sampel kelompok usia 3:\", format(dg3_mean, '.4f'))\n",
        "print(\"Standar deviasi sampel kelompok usia 3:\", format(dg3_std, '.4f'))"
      ],
      "attachments":{
        
      },
      "execution_count":11,
      "outputs":[
        {
          "name":"stdout",
          "text":[
            "Rata-rata sampel kelompok usia 3: 109.9476\n",
            "Standar deviasi sampel kelompok usia 3: 124.1055\n"
          ],
          "output_type":"stream"
        }
      ],
      "metadata":{
        
      }
    },
    {
      "cell_type":"markdown",
      "source":[
        "**Menghitung Z score**"
      ],
      "attachments":{
        
      },
      "metadata":{
        
      }
    },
    {
      "cell_type":"code",
      "source":[
        "# z score dari ketiga kelompok usia\n",
        "z1 = (dg1_mean-35)\/(dg1_std\/(len(data_group_1))**0.5)\n",
        "z2 = (dg2_mean-35)\/(dg2_std\/(len(data_group_2))**0.5)\n",
        "z3 = (dg3_mean-35)\/(dg3_std\/(len(data_group_3))**0.5)\n",
        "\n",
        "print(\"\"\"P kelompok 1 = {}\n",
        "P kelompok 2 = {}\n",
        "P kelompok 3 = {}\"\"\".format(format(z1, '.3f'), format(z2, '.3f'), format(z3, '.3f')))"
      ],
      "attachments":{
        
      },
      "execution_count":12,
      "outputs":[
        {
          "name":"stdout",
          "text":[
            "P kelompok 1 = 0.988\n",
            "P kelompok 2 = 35.275\n",
            "P kelompok 3 = 24.179\n"
          ],
          "output_type":"stream"
        }
      ],
      "metadata":{
        
      }
    },
    {
      "cell_type":"code",
      "source":[
        "x_axis = arange(-3, 3, 0.00001)\n",
        "y_axis = norm.pdf(x_axis, 0, 1)\n",
        "\n",
        "plt.vlines([0], 0, 0.4, linestyles='dashed', colors='black', label=\"\\u0396 Populasi = 0\")\n",
        "plt.vlines([0.988], 0, 0.24, linestyles='dashed', colors='red', label=\"\\u0396 Kelompok 1 = 0.988\")\n",
        "plt.vlines([35.275], 0, 0, linestyles='dashed', colors='orange', label=\"\\u0396 Kelompok 2 = 35.275\")\n",
        "plt.vlines([24.179], 0, 0, linestyles='dashed', colors='green', label=\"\\u0396 Kelompok 3 = 24.179\")\n",
        "plt.vlines([-1.645], 0, 0.1, colors='purple', label=\"\\u0396 Critical Value = -1.645\")\n",
        "plt.annotate('Z Kelompok 3',xy=(24.179,0),xytext=(17,0.1),\n",
        "             arrowprops=dict(arrowstyle='->',lw=3, color= \"green\"), fontsize=12)\n",
        "plt.annotate('Z Kelompok 2',xy=(35.275,0),xytext=(27.5,0.1),\n",
        "             arrowprops=dict(arrowstyle='->',lw=3, color= \"orange\"), fontsize=12)\n",
        "\n",
        "plt.annotate('FRR',xy=(1.5,0.02),xytext=(10,0.05),\n",
        "             arrowprops=dict(arrowstyle='->',lw=3, color= \"black\"), fontsize=12)\n",
        "plt.annotate('RR',xy=(-2.3,0.01),xytext=(5,0.2),\n",
        "             arrowprops=dict(arrowstyle='->',lw=3, color= \"black\"), fontsize=12)\n",
        "             \n",
        "plt.plot([35.275],[0], marker=\"o\", color=\"orange\")\n",
        "plt.plot([24.179],[0], marker=\"o\", color= \"green\")\n",
        "\n",
        "plt.plot(x_axis, y_axis)\n",
        "plt.legend()\n",
        "plt.show()"
      ],
      "attachments":{
        
      },
      "execution_count":13,
      "outputs":[
        {
          "data":{
            "image\/png":"[encoded data removed]"
          },
          "metadata":{
            "image\/png":{
              "width":0,
              "height":0
            }
          },
          "output_type":"display_data"
        }
      ],
      "metadata":{
        
      }
    },
    {
      "cell_type":"markdown",
      "source":[
        "### Mengambil Keputusan\n",
        "\n",
        "Berdasarkan perbandingan *Z score* dengan *critical value*, didapati bahwa Hipotesis Null ($H_0$) bisa diterima karena berada di *Fail to Reject Region* (FRR) atau di sebelah kanan *critical value* dengan tingkat kepercayaan 95%.\n",
        "\n",
        "Dengan kata lain, <b>Hipotesis Null ($H_0$) sahih dengan tingkat kepercayaan 95%<\/b>.\n",
        "\n",
        "Adapun berdasarkan besarnya nilai *Z score* dari ketiga masing-masing kategori usia, kami memberikan rekomendasi kepada pihak bank untuk mempertimbangkan adanya \"urutan prioritas\" dalam memberikan Kredit Kepemilikan Mobil (KPM). Kategori usia dari yang *paling aman* sampai yang *paling kurang aman* adalah sebagai berikut:\n",
        "1. Kelompok 2: 35 tahun ≤ usia ≤ 50 tahun\n",
        "2. Kelompok 3: usia > 50 tahun\n",
        "3. Kelompok 1: usia < 35 tahun"
      ],
      "attachments":{
        
      },
      "metadata":{
        
      }
    },
    {
      "cell_type":"markdown",
      "source":[
        "# Laporan Singkat"
      ],
      "attachments":{
        
      },
      "metadata":{
        
      }
    },
    {
      "cell_type":"markdown",
      "source":[
        "### Ringkasan Singkat\n",
        "\n",
        "<div style=\"text-align: justify\">\n",
        "Pertama, kita read data untuk mengetahui dataframenya. Dari 7 kolom yang ada, kita ambil hanya 2 kolom, yaitu Income dan Age karena hanya 2 kolom itu saja yang perlu diperhatikan. Setelah itu, kita memeriksa jika terdapat baris yang null serta tipe data yang sudah bersesuaian dengan kolomnya. Ditemukan bahwa tidak ada baris yang null. Kemudian kita juga cari daftar warga yang berusia kurang dari 18 tahun karena persyaratan seseorang membeli kendaraan ialah harus berusia minimum 18 tahun. Tetapi setelah diamati, tidak ada warga yang memiliki usia dibawah 18 tahun.\n",
        "\n",
        "Pada pemrograman, kami mengelompokan kolom age menjadi 3 kategori. Pembagiannya adalah seperti ini: Kelompok 1 (usia < 35 tahun), Kelompok 2 (diantara 35-50 tahun), dan Kelompok 3 (usia diatas 50 tahun). Setelah itu dilakukan uji hipotesis. Hipotesis Nullnya \"rata-rata income ≥ 35K USD\" dan Hipotesis Alternatifnya \"rata-rata income < 35K USD\". Test yang digunakan adalah \"Left Tailed Test\"; Rejection Region (RR) terletak hanya pada bagian kiri distribusi normal. Selanjutnya, kami memutuskan untuk menggunakan significance 5% dibandingkan 1% karena ketika significance semakin besar, berarti semakin tidak mentolerir kesalahan sehingga kecil kemungkinan terjadinya error. Sampel dari ketiga kelompok lebih besar dari 30 dan standar deviasi ketiga kelompok diketahui, maka dapat menggunakan distribusi normal dengan mencari Z score untuk 1 populasi. \n",
        "\n",
        "Rata-rata dan standar deviasi untuk ketiga kelompok usia adalah sebagai berikut:\n",
        "\n",
        "Rata-rata sampel kelompok usia 1: 35.4926\n",
        "Standar deviasi sampel kelompok usia 1: 22.1209\n",
        "\n",
        "Rata-rata sampel kelompok usia 2: 71.1014\n",
        "Standar deviasi sampel kelompok usia 2: 54.4436\n",
        "\n",
        "Rata-rata sampel kelompok usia 3: 109.9476\n",
        "Standar deviasi sampel kelompok usia 3: 124.1055\n",
        "\n",
        "Setelahnya, dihitung nilai Z score dan ditemukan nilai Z kelompok 1 = 0.988, Z kelompok 2 = 35.275, Z kelompok 3 = 24.179, Z critical value = -1.645. Berdasarkan perbandingan Z score dari ketiga kelompok usia dengan critical value, didapati bahwa Hipotesis Null bisa diterima dengan tingkat kepercayaan 95%. Dengan kata lain, benar adanya bahwa ketiga kelompok usia memiliki rata-rata Income lebih dari 35K USD\/year dengan tingkat kepercayaan 95%. Maka, <b>ketiga kelompok usia ini aman untuk mendapat Kredit Kepemilikan Mobil (KPM) dari bank<\/b>.\n",
        "\n",
        "Adapun berdasarkan besarnya nilai *Z score* dari ketiga masing-masing kategori usia, kami memberikan rekomendasi kepada pihak bank untuk mempertimbangkan adanya <b>\"urutan prioritas\"<\/b> dalam memberikan Kredit Kepemilikan Mobil (KPM). Kategori usia dari yang *paling aman* sampai yang *paling kurang aman* adalah sebagai berikut:\n",
        "1. Kelompok 2: 35 tahun ≤ usia ≤ 50 tahun\n",
        "2. Kelompok 3: usia > 50 tahun\n",
        "3. Kelompok 1: usia < 35 tahun\n",
        "<\/div>"
      ],
      "attachments":{
        
      },
      "metadata":{
        
      }
    },
    {
      "cell_type":"markdown",
      "source":[
        "## No. 2A\n",
        "Product manager memiliki intuisi bahwa rata-rata income orang pada kelompok 2 = 2x rata-rata Income kelompok 1. Demikian pula rata-rata income kelompok 3 = 2x rata-rata income kelompok 2. Buktikan kesahihan\/ketidaksahihan intuisi product manager secara statistika.\n",
        "\n",
        "### Menentukan Hipotesis\n",
        "* Hipotesis Null ($H_0$): μ income kelompok 3 = 4μ Income kelompok 1\n",
        "* Hipotesis Alternatif ($H_1$): μ income kelompok 3 = 4μ income kelompok 1<br>\n",
        "\n",
        "\n",
        "Test yang digunakan adalah \"Two Tailed Test\". Rejection Region (RR) terletak pada bagian kiri dan kanan distribusi normal."
      ],
      "attachments":{
        
      },
      "metadata":{
        
      }
    },
    {
      "cell_type":"markdown",
      "source":[
        "### Menentukan Significance (α)\n",
        "Significance yang dipilih adalah 5%. Kami memutuskan untuk menggunakan significance 5% dibandingkan 1% karena ketika significance semakin besar berarti semakin tidak mentolerir kesalahan sehingga kecil kemungkinan terjadinya *error*.\n",
        "\n",
        "Sampel dari ketiga kelompok lebih besar dari 30 dan standar deviasi ketiga kelompok diketahui, maka dapat menggunakan distribusi normal dengan mencari Z score untuk 2 populasi."
      ],
      "attachments":{
        
      },
      "metadata":{
        
      }
    },
    {
      "cell_type":"code",
      "source":[
        "import scipy.stats as stats\n",
        "\n",
        "# critical value\n",
        "significance = 0.05\n",
        "critical_val = stats.norm.ppf(q = 1 - (significance\/2))\n",
        "print('Alpha (α) =', format(critical_val, '.3f'))"
      ],
      "attachments":{
        
      },
      "execution_count":14,
      "outputs":[
        {
          "name":"stdout",
          "text":[
            "Alpha (α) = 1.960\n"
          ],
          "output_type":"stream"
        }
      ],
      "metadata":{
        
      }
    },
    {
      "cell_type":"code",
      "source":[
        "# critical value dalam distribusi z\n",
        "x_axis = arange(-3, 3, 0.00001)\n",
        "y_axis = norm.pdf(x_axis, 0, 1)\n",
        "\n",
        "plt.vlines([0], 0, 0.4, linestyles='dashed', colors='black', label=\"\\u0396 Populasi = 0\")\n",
        "plt.vlines([-1.960,1.960], 0, 0.06, colors='purple', label=\"\\u0396 Critical Value = ±1.960\")\n",
        "plt.annotate('-1.960', xy=(-2.3,0.08), fontsize=15)\n",
        "plt.annotate('1.960', xy=(1.5,0.08), fontsize=15)\n",
        "\n",
        "plt.plot(x_axis, y_axis)\n",
        "plt.legend()\n",
        "plt.show()"
      ],
      "attachments":{
        
      },
      "execution_count":15,
      "outputs":[
        {
          "data":{
            "image\/png":"[encoded data removed]"
          },
          "metadata":{
            "image\/png":{
              "width":0,
              "height":0
            }
          },
          "output_type":"display_data"
        }
      ],
      "metadata":{
        
      }
    },
    {
      "cell_type":"markdown",
      "source":[
        "### Menentukan P-Value"
      ],
      "attachments":{
        
      },
      "metadata":{
        
      }
    },
    {
      "cell_type":"markdown",
      "source":[
        "**Menghitung jumlah sampel, rata-rata, dan standar deviasi**"
      ],
      "attachments":{
        
      },
      "metadata":{
        
      }
    },
    {
      "cell_type":"code",
      "source":[
        "# Jumlah sampel\n",
        "n_1 = len(data_group_1)\n",
        "n_3 = len(data_group_3)\n",
        "\n",
        "# Rata-rata\n",
        "x_1 = float(format(dg1_mean, '.4f'))\n",
        "x_3 = float(format(dg3_mean, '.4f'))\n",
        "\n",
        "# Standar deviasi\n",
        "s_1 = float(format(dg1_std, '.4f'))\n",
        "s_3 = float(format(dg3_std, '.4f'))"
      ],
      "attachments":{
        
      },
      "execution_count":16,
      "outputs":[
        
      ],
      "metadata":{
        
      }
    },
    {
      "cell_type":"code",
      "source":[
        "print(\"\"\"n1 = {}\n",
        "x1 = {}\n",
        "s1 = {}\"\"\".format(n_1, x_1, s_1))"
      ],
      "attachments":{
        
      },
      "execution_count":17,
      "outputs":[
        {
          "name":"stdout",
          "text":[
            "n1 = 1967\n",
            "x1 = 35.4926\n",
            "s1 = 22.1209\n"
          ],
          "output_type":"stream"
        }
      ],
      "metadata":{
        
      }
    },
    {
      "cell_type":"code",
      "source":[
        "print(\"\"\"n3 = {}\n",
        "x3 = {}\n",
        "s3 = {}\"\"\".format(n_3, x_3, s_3))"
      ],
      "attachments":{
        
      },
      "execution_count":18,
      "outputs":[
        {
          "name":"stdout",
          "text":[
            "n3 = 1603\n",
            "x3 = 109.9476\n",
            "s3 = 124.1055\n"
          ],
          "output_type":"stream"
        }
      ],
      "metadata":{
        
      }
    },
    {
      "cell_type":"markdown",
      "source":[
        "**Menghitung Z score**"
      ],
      "attachments":{
        
      },
      "metadata":{
        
      }
    },
    {
      "cell_type":"code",
      "source":[
        "z_score = ((x_3-4*x_1)-0) \/ ((s_3**2\/n_3) + (s_1**2\/n_1))**0.5\n",
        "print('Z Score =', format(z_score, '.1f'))"
      ],
      "attachments":{
        
      },
      "execution_count":19,
      "outputs":[
        {
          "name":"stdout",
          "text":[
            "Z Score = -10.2\n"
          ],
          "output_type":"stream"
        }
      ],
      "metadata":{
        
      }
    },
    {
      "cell_type":"code",
      "source":[
        "x_axis = arange(-3, 3, 0.00001)\n",
        "y_axis = norm.pdf(x_axis, 0, 1)\n",
        "\n",
        "fig, ax = plt.subplots(figsize=(18,7))\n",
        "ax.vlines([0], 0, 0.4, linestyles='dashed', colors='black', label=\"\\u0396 Populasi = 0\")\n",
        "ax.vlines([-1.960,1.960], 0, 0.06, colors='purple', label=\"\\u0396 Critical Value = ±1.960\")\n",
        "ax.vlines([-10.2], 0, 0, colors='orange', label=\"\\u0396 Score =  = -10.200\")\n",
        "ax.annotate('Z Score',xy=(-10.200,0),xytext=(-8,0.1),\n",
        "             arrowprops=dict(arrowstyle='->',lw=3, color= \"orange\"), fontsize=15)\n",
        "ax.annotate('-1.960', xy=(-2.3,0.08), fontsize=15)\n",
        "ax.annotate('1.960', xy=(1.5,0.08), fontsize=15)\n",
        "ax.plot([-10.2],[0], marker=\"o\", color=\"orange\")\n",
        "\n",
        "ax.legend()\n",
        "ax.plot(x_axis, y_axis)"
      ],
      "attachments":{
        
      },
      "execution_count":20,
      "outputs":[
        {
          "data":{
            "text\/plain":[
              "[<matplotlib.lines.Line2D at 0x7fbd2d28bca0>]"
            ],
            "image\/png":"[encoded data removed]"
          },
          "metadata":{
            "image\/png":{
              "width":0,
              "height":0
            }
          },
          "output_type":"display_data"
        }
      ],
      "metadata":{
        
      }
    },
    {
      "cell_type":"markdown",
      "source":[
        "### Mengambil Keputusan\n",
        "Berdasarkan perbandingan *Z score* dengan *critical value*, didapati bahwa Hipotesis Null ($H_0$) tidak bisa diterima karena berada di *Rejection Region* (RR) atau di sebelah kiri *left critical value* dengan tingkat kepercayaan 95%.\n",
        "\n",
        "Dengan kata lain, <b>Hipotesis Null ($H_0$) tidak sahih dengan tingkat kepercayaan 95%<\/b>."
      ],
      "attachments":{
        
      },
      "metadata":{
        
      }
    },
    {
      "cell_type":"markdown",
      "source":[
        "## No 2B\n",
        "Product manager juga memiliki intuisi bahwa Income orang pada kelompok 1 memiliki tingkat keseragaman yang sama dengan Income kelompok 2. Namun demikian, tingkat keseragaman kedua kelompok tersebut secara signifikan lebih kecil dari tingkat keseragaman kelompok 3. Buktikan kesahihan\/ketidaksahihan intuisi product manager secara statistika.\n",
        "\n",
        "### Menentukan Hipotesis\n",
        "- Hipotesis Null ($H_0$) 1: σ Income kelompok 1 = σ Income kelompok 2\n",
        "- Hipotesis Null ($H_0$) 2: σ Income kelompok 2 = σ Income kelompok 3\n",
        "<br><br>\n",
        "- Hipotesis Alternatif ($H_1$) 1: σ Income kelompok 1 ≠ σ Income kelompok 2\n",
        "- Hipotesis Alternatif ($H_1$) 2: σ Income kelompok 2 ≠ σ Income kelompok 3<br>\n",
        "\n",
        "Dalam pengujian hipotesis kali ini, kami menggunakan Distribusi F untuk menguji masing-masing 2 kelompok sample dalam setiap hipotesisnya."
      ],
      "attachments":{
        
      },
      "metadata":{
        
      }
    },
    {
      "cell_type":"markdown",
      "source":[
        "### Menentukan Significance (α)\n",
        "Significance yang dipilih adalah 5%. Kami memutuskan untuk menggunakan significance 5% dibandingkan 1% karena ketika significance semakin besar berarti semakin tidak mentolerir kesalahan sehingga kecil kemungkinan terjadinya *error*.\n",
        "\n",
        "Sampel dari ketiga kelompok lebih besar dari 30 dan standar deviasi ketiga kelompok diketahui, maka dapat menggunakan distribusi normal dengan mencari Z score untuk 2 populasi."
      ],
      "attachments":{
        
      },
      "metadata":{
        
      }
    },
    {
      "cell_type":"code",
      "source":[
        "# critical value\n",
        "significance = 0.05\n",
        "critical_val = stats.norm.ppf(q = 1 - (significance\/2))\n",
        "print('Significance (α) =', format(critical_val, '.3f'))"
      ],
      "attachments":{
        
      },
      "execution_count":21,
      "outputs":[
        {
          "name":"stdout",
          "text":[
            "Significance (α) = 1.960\n"
          ],
          "output_type":"stream"
        }
      ],
      "metadata":{
        
      }
    },
    {
      "cell_type":"markdown",
      "source":[
        "### Menentukan P-Value"
      ],
      "attachments":{
        
      },
      "metadata":{
        
      }
    },
    {
      "cell_type":"code",
      "source":[
        "from scipy.stats import f\n",
        "\n",
        "var_1 = dg1_std**2\n",
        "var_2 = dg2_std**2\n",
        "var_3 = dg3_std**2\n",
        "\n",
        "dof_1 = len(data_group_1)-1\n",
        "dof_2 = len(data_group_2)-1\n",
        "dof_3 = len(data_group_3)-1\n",
        "\n",
        "F_1 = var_1\/var_2\n",
        "F_2 = var_2\/var_3\n",
        "p_value_left = f.ppf(q=0.025, dfn=dof_1, dfd=dof_2)\n",
        "p_value_right = f.ppf(q=0.975, dfn=dof_2, dfd=dof_1)\n",
        "p_value = f.ppf(q=0.05, dfn=dof_2, dfd=dof_3)\n",
        "\n",
        "print('Left ciritical value:', format(p_value_left, '.4f'))\n",
        "print('Right critical value', format(p_value_right, '.4f'))\n",
        "print('F score Null Hypothesis 1:', format(F_1, '.4f'))\n",
        "print('')\n",
        "print('Critical value:', format(p_value, '.4f'))\n",
        "print('F score Null Hypothesis 2', format(F_2, '.4f'))"
      ],
      "attachments":{
        
      },
      "execution_count":22,
      "outputs":[
        {
          "name":"stdout",
          "text":[
            "Left ciritical value: 0.9215\n",
            "Right critical value 1.0851\n",
            "F score Null Hypothesis 1: 0.1651\n",
            "\n",
            "Critical value: 0.9302\n",
            "F score Null Hypothesis 2 0.1924\n"
          ],
          "output_type":"stream"
        }
      ],
      "metadata":{
        
      }
    },
    {
      "cell_type":"code",
      "source":[
        "import numpy as np\n",
        "\n",
        "fig, ax = plt.subplots(figsize=(12,5))\n",
        "ax.plot(np.arange(0,5,0.002),stats.f.pdf(np.arange(0,5,0.002),4,40))\n",
        "ax.vlines([0.9215], 0, 0.56, colors='purple', label=\"Critical Value\")\n",
        "ax.vlines([1.0851], 0, 0.47, colors='purple')\n",
        "ax.vlines([0.1651], 0, 0.47, colors='red')\n",
        "ax.annotate('0.9215', xy=(0.55,0.45), fontsize=13)\n",
        "ax.annotate('1.0851', xy=(1.15,0.25), fontsize=13)\n",
        "ax.annotate('Z Score',xy=(0.16,0.15),xytext=(0.5,0.1),\n",
        "             arrowprops=dict(arrowstyle='->',lw=3, color= \"red\"), fontsize=13.5)\n",
        "ax.set_title('Pengujian Hipotesis Kelompok 1 dan Kelompok 2', fontsize=14)\n",
        "ax.legend()"
      ],
      "attachments":{
        
      },
      "execution_count":23,
      "outputs":[
        {
          "data":{
            "text\/plain":[
              "<matplotlib.legend.Legend at 0x7fbd2d278ca0>"
            ],
            "image\/png":"[encoded data removed]"
          },
          "metadata":{
            "image\/png":{
              "width":0,
              "height":0
            }
          },
          "output_type":"display_data"
        }
      ],
      "metadata":{
        
      }
    },
    {
      "cell_type":"code",
      "source":[
        "fig, ax = plt.subplots(figsize=(12,5))\n",
        "plt.style.use('seaborn')\n",
        "ax.plot(np.arange(0,5,0.002),stats.f.pdf(np.arange(0,5,0.002),4,40))\n",
        "ax.vlines([0.9302], 0, 0.55, colors='purple', label=\"Critical Value\")\n",
        "ax.vlines([0.1924], 0, 0.51, colors='red')\n",
        "ax.annotate('0.9302', xy=(0.55,0.45), fontsize=13)\n",
        "ax.annotate('Z Score',xy=(0.18,0.15),xytext=(0.5,0.1),\n",
        "             arrowprops=dict(arrowstyle='->',lw=3, color= \"red\"), fontsize=13.5)\n",
        "ax.set_title(\"Pengujian Hipotesis Kelompok 2 dan Kelompok 3\", fontsize=14)\n",
        "ax.legend()"
      ],
      "attachments":{
        
      },
      "execution_count":24,
      "outputs":[
        {
          "data":{
            "text\/plain":[
              "<matplotlib.legend.Legend at 0x7fbd2d1c6100>"
            ],
            "image\/png":"[encoded data removed]"
          },
          "metadata":{
            "image\/png":{
              "width":0,
              "height":0
            }
          },
          "output_type":"display_data"
        }
      ],
      "metadata":{
        
      }
    },
    {
      "cell_type":"markdown",
      "source":[
        "### Mengambil Keputusan\n",
        "\n",
        "(Grafik 1) Karena nilai $F$ berada di RR (<em>Reject Region<\/em>) atau di sebelah kiri nilai *left critical value*, maka nilai variansi kelompok 2 lebih beragam daripada nilai variansi kelompok 1. Dengan kata lain, kelompok 1 dan 2 tidak memiliki keseragaman yang sama, maka kesimpulannya adalah $H_0$ 1 ditolak.\n",
        "\n",
        "(Grafik 2) Untuk $H_0$ 2, karena nilai $F$ berada di RR (<em>Reject Region<\/em>) sama seperti $H_0$ 1. Maka, dapat dikatakan bahwa kelompok 2 memiliki tingkat keseragamanan yang tidak sama dengan kelompok 3.\n",
        "\n",
        "Karena hipotesis null ($H_0$) ditolak, maka hipotesis alternatif yang diterima ($H_1$). Hal ini membuktikan bahwa <b>intuisi dari produck manager tidak sahih<\/b>."
      ],
      "attachments":{
        
      },
      "metadata":{
        
      }
    },
    {
      "cell_type":"markdown",
      "source":[
        "## Kesimpulan dan Saran\n",
        "Berdasarkan perbandingan Z score dari ketiga kelompok usia dengan critical value, didapati bahwa Hipotesis Null bisa diterima dengan tingkat kepercayaan 95%. Dengan kata lain, benar adanya bahwa ketiga kelompok usia memiliki rata-rata Income lebih dari 35K USD\/year dengan tingkat kepercayaan 95%. Maka, <b>ketiga kelompok usia ini aman untuk mendapat Kredit Kepemilikan Mobil (KPM) dari bank<\/b>.\n",
        "\n",
        "Adapun berdasarkan besarnya nilai *Z score* dari ketiga masing-masing kategori usia, kami memberikan rekomendasi kepada pihak bank untuk mempertimbangkan adanya <b>\"urutan prioritas\"<\/b> dalam memberikan Kredit Kepemilikan Mobil (KPM). Kategori usia dari yang *paling aman* sampai yang *paling kurang aman* adalah sebagai berikut:\n",
        "1. Kelompok 2: 35 tahun ≤ usia ≤ 50 tahun\n",
        "2. Kelompok 3: usia > 50 tahun\n",
        "3. Kelompok 1: usia < 35 tahun\n",
        "\n",
        "Kemudian untuk intuisi product manager:\n",
        "- μ income kelompok 3 = 4μ Income kelompok 1\n",
        "- σ Income kelompok 1 = σ Income kelompok 2\n",
        "- σ Income kelompok 2 = σ Income kelompok 3\n",
        "<br>\n",
        "\n",
        "**Ketiga intuisi product manager tersebut terbukti tidak sahih** dari pengujian hipotesis yang telah kami lakukan dengan tingkat <em>kepercayaan sebesar 95%<\/em>."
      ],
      "attachments":{
        
      },
      "metadata":{
        
      }
    }
  ],
  "metadata":{
    
  },
  "nbformat":4,
  "nbformat_minor":0
}